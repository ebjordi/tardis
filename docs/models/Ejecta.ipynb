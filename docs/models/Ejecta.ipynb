{
 "cells": [
  {
   "cell_type": "markdown",
   "metadata": {},
   "source": [
    "# Ejecta model"
   ]
  },
  {
   "cell_type": "markdown",
   "metadata": {},
   "source": [
    "TARDIS requires a model of the homologously expanding ejecta in order to run a simulation. The ejecta is modeled as concentric 1 dimensional radial cells. Each cell contins information the velocity structure, abundances, density, and a radiation field.\n",
    "#This information is stored in TARDIS [config](link). \n",
    "The information of these properties can be stored as classes and all of them inherit from a BaseProperty to facilitate the interaction. BaseProperty handles the initailization of the property's time and initial time (time_0) with which most properties build on.             \n",
    "##  Model grid\n",
    "The first thing needed in order to have a useful ejecta model is a discreet space grid. \n",
    "What defines the spatial grid in TARDIS is the velocity grid. This dependance on velocity also entails a dependance with time.\n",
    "### Velocity Class\n",
    "For a basic grid inner and outer velocities are needed. Each concentric cell has an inner and outer velocity, and inner_velocity and outer_velocity are arrays composed of these velocities.\n",
    "The velocity class stores velocities and velocities-related quantities (such as cell radius and volume). To start a Velocity class we need `inner_velocity` and an `outer_velocity` arrays, optional arguments are `time_0` which fallback to 0 seconds and `time` which is recomended to have singificant values for radii and volume.\n"
   ]
  },
  {
   "cell_type": "code",
   "execution_count": 1,
   "metadata": {
    "ExecuteTime": {
     "end_time": "2020-08-18T19:50:45.057282Z",
     "start_time": "2020-08-18T19:50:43.907742Z"
    }
   },
   "outputs": [
    {
     "name": "stderr",
     "output_type": "stream",
     "text": [
      "/home/jordi/conda/envs/tardis/lib/python3.6/importlib/_bootstrap.py:219: QAWarning: pyne.data is not yet QA compliant.\n",
      "  return f(*args, **kwds)\n"
     ]
    }
   ],
   "source": [
    "from tardis.model._generic_model import *"
   ]
  },
  {
   "cell_type": "code",
   "execution_count": 2,
   "metadata": {
    "ExecuteTime": {
     "end_time": "2020-08-18T19:50:45.066705Z",
     "start_time": "2020-08-18T19:50:45.059363Z"
    }
   },
   "outputs": [
    {
     "name": "stdout",
     "output_type": "stream",
     "text": [
      "[ 9000.  9500. 10000. 10500. 11000. 11500. 12000. 12500.] km / s \n",
      " [ 9500. 10000. 10500. 11000. 11500. 12000. 12500. 13000.] km / s\n"
     ]
    }
   ],
   "source": [
    "velocity_inner = [i for i in range(9000, 13000, 500)] * u.km / u.s\n",
    "velocity_outer = [i for i in range(9500, 13500, 500)] * u.km / u.s\n",
    "print(velocity_inner,'\\n',velocity_outer)"
   ]
  },
  {
   "cell_type": "code",
   "execution_count": 3,
   "metadata": {
    "ExecuteTime": {
     "end_time": "2020-08-18T19:50:45.084253Z",
     "start_time": "2020-08-18T19:50:45.069638Z"
    }
   },
   "outputs": [
    {
     "name": "stdout",
     "output_type": "stream",
     "text": [
      "no `time` provided, `time_0` will be used\n"
     ]
    }
   ],
   "source": [
    "velocity = Velocity(velocity_inner,velocity_outer)\n"
   ]
  },
  {
   "cell_type": "markdown",
   "metadata": {},
   "source": [
    "Quantities are converted to CGS and can be easily accessed:"
   ]
  },
  {
   "cell_type": "code",
   "execution_count": 4,
   "metadata": {
    "ExecuteTime": {
     "end_time": "2020-08-18T19:50:45.110827Z",
     "start_time": "2020-08-18T19:50:45.087313Z"
    }
   },
   "outputs": [
    {
     "data": {
      "text/latex": [
       "$[9.25 \\times 10^{8},~9.75 \\times 10^{8},~1.025 \\times 10^{9},~1.075 \\times 10^{9},~1.125 \\times 10^{9},~1.175 \\times 10^{9},~1.225 \\times 10^{9},~1.275 \\times 10^{9}] \\; \\mathrm{\\frac{cm}{s}}$"
      ],
      "text/plain": [
       "<Quantity [9.250e+08, 9.750e+08, 1.025e+09, 1.075e+09, 1.125e+09,\n",
       "           1.175e+09, 1.225e+09, 1.275e+09] cm / s>"
      ]
     },
     "execution_count": 4,
     "metadata": {},
     "output_type": "execute_result"
    }
   ],
   "source": [
    "velocity.middle"
   ]
  },
  {
   "cell_type": "markdown",
   "metadata": {
    "ExecuteTime": {
     "end_time": "2020-08-18T19:25:25.670354Z",
     "start_time": "2020-08-18T19:25:25.662022Z"
    }
   },
   "source": [
    "By not providing a time for the class some quantities don't make sense:"
   ]
  },
  {
   "cell_type": "code",
   "execution_count": 7,
   "metadata": {
    "ExecuteTime": {
     "end_time": "2020-08-18T19:50:57.391878Z",
     "start_time": "2020-08-18T19:50:57.374379Z"
    }
   },
   "outputs": [
    {
     "data": {
      "text/latex": [
       "$[7.776 \\times 10^{13},~8.208 \\times 10^{13},~8.64 \\times 10^{13},~9.072 \\times 10^{13},~9.504 \\times 10^{13},~9.936 \\times 10^{13},~1.0368 \\times 10^{14},~1.08 \\times 10^{14}] \\; \\mathrm{cm}$"
      ],
      "text/plain": [
       "<Quantity [7.7760e+13, 8.2080e+13, 8.6400e+13, 9.0720e+13, 9.5040e+13,\n",
       "           9.9360e+13, 1.0368e+14, 1.0800e+14] cm>"
      ]
     },
     "execution_count": 7,
     "metadata": {},
     "output_type": "execute_result"
    }
   ],
   "source": [
    "velocity.inner_radius"
   ]
  },
  {
   "cell_type": "markdown",
   "metadata": {
    "ExecuteTime": {
     "end_time": "2020-08-18T19:06:05.350094Z",
     "start_time": "2020-08-18T19:06:05.341062Z"
    }
   },
   "source": [
    "`time` can be modified:"
   ]
  },
  {
   "cell_type": "code",
   "execution_count": 6,
   "metadata": {
    "ExecuteTime": {
     "end_time": "2020-08-18T19:50:45.140353Z",
     "start_time": "2020-08-18T19:50:45.132998Z"
    }
   },
   "outputs": [
    {
     "data": {
      "text/latex": [
       "$1 \\; \\mathrm{d}$"
      ],
      "text/plain": [
       "<Quantity 1. d>"
      ]
     },
     "execution_count": 6,
     "metadata": {},
     "output_type": "execute_result"
    }
   ],
   "source": [
    "velocity.time = 1 * u.d\n",
    "velocity.time"
   ]
  },
  {
   "cell_type": "markdown",
   "metadata": {},
   "source": [
    "Quantities stored in Velocity are:\n",
    " - Velocity.inner \n",
    " - Velocity.outer\n",
    " - Velocity.middle\n",
    " - Velocity.inner_radius\n",
    " - Velocity.middle_radius\n",
    " - Velocity.outer_radius\n",
    " - Velocity.volume\n",
    " - Velocity.time_0\n",
    " - Velocity.time\n",
    " - Velocity.number_of_cells"
   ]
  },
  {
   "cell_type": "markdown",
   "metadata": {},
   "source": [
    "The number of cells is defined by the length of the input velocity arrays"
   ]
  },
  {
   "cell_type": "code",
   "execution_count": 8,
   "metadata": {
    "ExecuteTime": {
     "end_time": "2020-08-18T20:42:36.156893Z",
     "start_time": "2020-08-18T20:42:36.146570Z"
    }
   },
   "outputs": [
    {
     "data": {
      "text/plain": [
       "8"
      ]
     },
     "execution_count": 8,
     "metadata": {},
     "output_type": "execute_result"
    }
   ],
   "source": [
    "velocity.number_of_cells"
   ]
  },
  {
   "cell_type": "markdown",
   "metadata": {},
   "source": [
    "### Density\n",
    "\n",
    "\n"
   ]
  },
  {
   "cell_type": "markdown",
   "metadata": {},
   "source": [
    "### Abundance\n",
    "Explain\n",
    "Example\n",
    "### Radiation Field\n",
    "Explain\n",
    "Example\n",
    "## Generic[Ejecta]Model\n",
    "A more flexible implementation of the TARDIS ejecta model is the Generic[Ejecta]Model. \n",
    "What does Generic model is and what it does with data.\n",
    "\n",
    "Explain what you can do here but not in TARDIS\n",
    "Start model and different times using above properties \n",
    "Explain that more properties can be added as long as they use the basxi structure of BaseProperty\n",
    "## TARDIS Ejecta Model\n",
    "Explain what happens with v_boundary and that it can't change."
   ]
  },
  {
   "cell_type": "code",
   "execution_count": null,
   "metadata": {},
   "outputs": [],
   "source": []
  }
 ],
 "metadata": {
  "kernelspec": {
   "display_name": "tardis",
   "language": "python",
   "name": "tardis"
  },
  "language_info": {
   "codemirror_mode": {
    "name": "ipython",
    "version": 3
   },
   "file_extension": ".py",
   "mimetype": "text/x-python",
   "name": "python",
   "nbconvert_exporter": "python",
   "pygments_lexer": "ipython3",
   "version": "3.6.10"
  },
  "toc": {
   "base_numbering": 1,
   "nav_menu": {},
   "number_sections": true,
   "sideBar": true,
   "skip_h1_title": false,
   "title_cell": "Table of Contents",
   "title_sidebar": "Contents",
   "toc_cell": false,
   "toc_position": {},
   "toc_section_display": true,
   "toc_window_display": true
  }
 },
 "nbformat": 4,
 "nbformat_minor": 4
}
