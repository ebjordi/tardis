{
 "cells": [
  {
   "cell_type": "markdown",
   "metadata": {},
   "source": [
    "# Ejecta model"
   ]
  },
  {
   "cell_type": "markdown",
   "metadata": {},
   "source": [
    "TARDIS requires a model of the homologously expanding ejecta in order to run a simulation. The ejecta is divided in concentric 1 dimensional radial cells to use as computational units. Each cell contains information the velocity structure, abundances, density, and a radiation field.\n",
    "\n",
    "The information of these properties are stored as classes and all of them inherit from a `BaseProperty` to facilitate the interaction. \n",
    "`BaseProperty` handles the initailization of the properties' `time` and initial time (`time_0`). If no `time_0` is provided, it will default to 0 seconds (except density which defaults to 1 second) and if no `time` is provided, it will default to `time_0`. `check_number_of_cells()` is used by the Generic model to check consistency.\n",
    "The function `cgs.units()` is implemented in the children classes.\n",
    "Any more properties added to the GenericModel should be built on this class. They must include a `name` attribute, a `cgs_units()` function to check and convert units, and should delegate time initalization to `BaseProperty`.            \n",
    "##  Model grid\n",
    "The first thing needed in order to have a useful ejecta model is a discreet spatial grid. \n",
    "What defines the spatial grid in TARDIS is the velocity grid. This dependance on velocity also entails a dependance with time.\n",
    "### Velocity Class\n",
    "For a basic grid inner and outer velocities are needed. Each concentric cell has an inner and outer velocity, and `inner_velocity` and `outer_velocity` are arrays composed of these velocities.\n",
    "The velocity class stores velocities and velocities-related quantities (such as cell radius and volume). To start a Velocity class we need `inner_velocity` and an `outer_velocity` arrays, optional arguments are `time_0` which fallback to 0 seconds and `time` which is recomended to have singificant values for radii and volume.\n"
   ]
  },
  {
   "cell_type": "code",
   "execution_count": 1,
   "metadata": {
    "ExecuteTime": {
     "end_time": "2020-08-19T21:55:13.170853Z",
     "start_time": "2020-08-19T21:55:13.163369Z"
    }
   },
   "outputs": [
    {
     "name": "stderr",
     "output_type": "stream",
     "text": [
      "/home/jordi/conda/envs/tardis/lib/python3.6/importlib/_bootstrap.py:219: QAWarning: pyne.data is not yet QA compliant.\n",
      "  return f(*args, **kwds)\n"
     ]
    }
   ],
   "source": [
    "from tardis.model._generic_model import *\n",
    "from tardis.io.model_reader import read_csv_isotope_abundances"
   ]
  },
  {
   "cell_type": "code",
   "execution_count": 2,
   "metadata": {
    "ExecuteTime": {
     "end_time": "2020-08-19T14:21:03.997245Z",
     "start_time": "2020-08-19T14:21:03.986572Z"
    }
   },
   "outputs": [
    {
     "name": "stdout",
     "output_type": "stream",
     "text": [
      "[ 9000.  9500. 10000. 10500. 11000. 11500. 12000. 12500.] km / s \n",
      " [ 9500. 10000. 10500. 11000. 11500. 12000. 12500. 13000.] km / s\n"
     ]
    }
   ],
   "source": [
    "velocity_inner = [i for i in range(9000, 13000, 500)] * u.km / u.s\n",
    "velocity_outer = [i for i in range(9500, 13500, 500)] * u.km / u.s\n",
    "print(velocity_inner,'\\n',velocity_outer)"
   ]
  },
  {
   "cell_type": "code",
   "execution_count": 3,
   "metadata": {
    "ExecuteTime": {
     "end_time": "2020-08-18T19:50:45.084253Z",
     "start_time": "2020-08-18T19:50:45.069638Z"
    }
   },
   "outputs": [
    {
     "name": "stdout",
     "output_type": "stream",
     "text": [
      "no `time` provided, `time_0` will be used\n"
     ]
    }
   ],
   "source": [
    "velocity = Velocity(velocity_inner,velocity_outer)"
   ]
  },
  {
   "cell_type": "markdown",
   "metadata": {},
   "source": [
    "Quantities are converted to CGS and can be easily accessed as attributes:"
   ]
  },
  {
   "cell_type": "code",
   "execution_count": 4,
   "metadata": {
    "ExecuteTime": {
     "end_time": "2020-08-18T19:50:45.110827Z",
     "start_time": "2020-08-18T19:50:45.087313Z"
    }
   },
   "outputs": [
    {
     "data": {
      "text/latex": [
       "$[9.25 \\times 10^{8},~9.75 \\times 10^{8},~1.025 \\times 10^{9},~1.075 \\times 10^{9},~1.125 \\times 10^{9},~1.175 \\times 10^{9},~1.225 \\times 10^{9},~1.275 \\times 10^{9}] \\; \\mathrm{\\frac{cm}{s}}$"
      ],
      "text/plain": [
       "<Quantity [9.250e+08, 9.750e+08, 1.025e+09, 1.075e+09, 1.125e+09,\n",
       "           1.175e+09, 1.225e+09, 1.275e+09] cm / s>"
      ]
     },
     "execution_count": 4,
     "metadata": {},
     "output_type": "execute_result"
    }
   ],
   "source": [
    "velocity.middle"
   ]
  },
  {
   "cell_type": "markdown",
   "metadata": {
    "ExecuteTime": {
     "end_time": "2020-08-18T19:25:25.670354Z",
     "start_time": "2020-08-18T19:25:25.662022Z"
    }
   },
   "source": [
    "By not providing a time for the class some quantities don't make sense:"
   ]
  },
  {
   "cell_type": "code",
   "execution_count": 5,
   "metadata": {
    "ExecuteTime": {
     "end_time": "2020-08-18T19:50:57.391878Z",
     "start_time": "2020-08-18T19:50:57.374379Z"
    }
   },
   "outputs": [
    {
     "data": {
      "text/latex": [
       "$[0,~0,~0,~0,~0,~0,~0,~0] \\; \\mathrm{cm}$"
      ],
      "text/plain": [
       "<Quantity [0., 0., 0., 0., 0., 0., 0., 0.] cm>"
      ]
     },
     "execution_count": 5,
     "metadata": {},
     "output_type": "execute_result"
    }
   ],
   "source": [
    "velocity.inner_radius"
   ]
  },
  {
   "cell_type": "markdown",
   "metadata": {
    "ExecuteTime": {
     "end_time": "2020-08-18T19:06:05.350094Z",
     "start_time": "2020-08-18T19:06:05.341062Z"
    }
   },
   "source": [
    "`time` can be modified:"
   ]
  },
  {
   "cell_type": "code",
   "execution_count": 6,
   "metadata": {
    "ExecuteTime": {
     "end_time": "2020-08-18T19:50:45.140353Z",
     "start_time": "2020-08-18T19:50:45.132998Z"
    }
   },
   "outputs": [
    {
     "data": {
      "text/latex": [
       "$1 \\; \\mathrm{d}$"
      ],
      "text/plain": [
       "<Quantity 1. d>"
      ]
     },
     "execution_count": 6,
     "metadata": {},
     "output_type": "execute_result"
    }
   ],
   "source": [
    "velocity.time = 1 * u.d\n",
    "velocity.time"
   ]
  },
  {
   "cell_type": "markdown",
   "metadata": {},
   "source": [
    "Quantities stored in Velocity are:\n",
    " - Velocity.inner \n",
    " - Velocity.outer\n",
    " - Velocity.middle\n",
    " - Velocity.inner_radius\n",
    " - Velocity.middle_radius\n",
    " - Velocity.outer_radius\n",
    " - Velocity.volume\n",
    " - Velocity.time_0\n",
    " - Velocity.time\n",
    " - Velocity.number_of_cells"
   ]
  },
  {
   "cell_type": "markdown",
   "metadata": {},
   "source": [
    "The number of cells is defined by the length of the input velocity arrays"
   ]
  },
  {
   "cell_type": "code",
   "execution_count": 7,
   "metadata": {
    "ExecuteTime": {
     "end_time": "2020-08-18T20:42:36.156893Z",
     "start_time": "2020-08-18T20:42:36.146570Z"
    }
   },
   "outputs": [
    {
     "data": {
      "text/plain": [
       "8"
      ]
     },
     "execution_count": 7,
     "metadata": {},
     "output_type": "execute_result"
    }
   ],
   "source": [
    "velocity.number_of_cells"
   ]
  },
  {
   "cell_type": "markdown",
   "metadata": {},
   "source": [
    "### Density\n",
    "Once the grid is defined, more properties can be added to the structure. \n",
    "The Density class can store mass density and electron density(optional).\n",
    "Initial mass density is stored as `mass_0`."
   ]
  },
  {
   "cell_type": "code",
   "execution_count": 8,
   "metadata": {
    "ExecuteTime": {
     "end_time": "2020-08-18T22:00:27.892526Z",
     "start_time": "2020-08-18T22:00:27.857258Z"
    }
   },
   "outputs": [],
   "source": [
    "mass_density_array = [\n",
    "            6.2419e-10,\n",
    "            6.1502e-10,\n",
    "            6.0492e-10,\n",
    "            5.9475e-10,\n",
    "            5.8468e-10,\n",
    "            5.7473e-10,\n",
    "            5.6493e-10,\n",
    "            5.5529e-10,\n",
    "        ] * u.g / u.cm**3\n",
    "density = Density(mass_density_array, time = 1 * u.d)"
   ]
  },
  {
   "cell_type": "markdown",
   "metadata": {},
   "source": [
    "Initial mass density is stored as `mass_0`."
   ]
  },
  {
   "cell_type": "code",
   "execution_count": 9,
   "metadata": {
    "ExecuteTime": {
     "end_time": "2020-08-18T21:59:35.348235Z",
     "start_time": "2020-08-18T21:59:35.301241Z"
    }
   },
   "outputs": [
    {
     "data": {
      "text/latex": [
       "$86400 \\; \\mathrm{s}$"
      ],
      "text/plain": [
       "<Quantity 86400. s>"
      ]
     },
     "execution_count": 9,
     "metadata": {},
     "output_type": "execute_result"
    }
   ],
   "source": [
    "density.time"
   ]
  },
  {
   "cell_type": "markdown",
   "metadata": {},
   "source": [
    "The ejecta is homologouly expanding, and therefore the value of the density will decrease proportionally to (time/time_0)**-3. This again highlights the importance of providing a `time` for the class."
   ]
  },
  {
   "cell_type": "code",
   "execution_count": 10,
   "metadata": {
    "ExecuteTime": {
     "end_time": "2020-08-18T22:22:21.831017Z",
     "start_time": "2020-08-18T22:22:21.821294Z"
    }
   },
   "outputs": [
    {
     "data": {
      "text/latex": [
       "$[9.6777763 \\times 10^{-25},~9.5355997 \\times 10^{-25},~9.3790039 \\times 10^{-25},~9.2213228 \\times 10^{-25},~9.0651921 \\times 10^{-25},~8.910922 \\times 10^{-25},~8.7589775 \\times 10^{-25},~8.6095138 \\times 10^{-25}] \\; \\mathrm{\\frac{g}{cm^{3}}}$"
      ],
      "text/plain": [
       "<Quantity [9.67777630e-25, 9.53559970e-25, 9.37900389e-25, 9.22132276e-25,\n",
       "           9.06519208e-25, 8.91092195e-25, 8.75897750e-25, 8.60951377e-25] g / cm3>"
      ]
     },
     "execution_count": 10,
     "metadata": {},
     "output_type": "execute_result"
    }
   ],
   "source": [
    "density.mass"
   ]
  },
  {
   "cell_type": "markdown",
   "metadata": {
    "ExecuteTime": {
     "end_time": "2020-08-18T22:21:39.446949Z",
     "start_time": "2020-08-18T22:21:39.438946Z"
    }
   },
   "source": [
    "Quantities stored in Density are:\n",
    " - Density.mass_0\n",
    " - Density.mass\n",
    " - Density.electron\n",
    " - Density.time_0\n",
    " - Density.time\n",
    " - Density.number_of_cells"
   ]
  },
  {
   "cell_type": "markdown",
   "metadata": {},
   "source": [
    "### Abundance\n",
    "Fractional mass abundances are stored in the Abundance class and contain both element and isotopic abundance.\n",
    "The easiest way to start an abundance class is using the tardis configuration file. Is this case (and to illustrate its capabilities) we will extract data from a file that contains elements and isotopes."
   ]
  },
  {
   "cell_type": "code",
   "execution_count": 11,
   "metadata": {
    "ExecuteTime": {
     "end_time": "2020-08-19T22:10:03.091681Z",
     "start_time": "2020-08-19T22:10:02.914935Z"
    }
   },
   "outputs": [
    {
     "name": "stdout",
     "output_type": "stream",
     "text": [
      "Index C O Mg Si Ni56 Ni58\r\n",
      "0 0 0 0 0.6 0.4 0\r\n",
      "1 0 0 0 0.1 0.5 0.4\r\n",
      "2 0 0 0 0.3 0 0.7\r\n",
      "3 0 0.2 0.8 0 0 0\r\n",
      "4 0 0.3 0.7 0 0 0\r\n",
      "5 0 0.2 0.8 0 0 0\r\n",
      "6 0 0.2 0.8 0 0 0\r\n",
      "7 0 0.2 0.8 0 0 0\r\n",
      "8 0.5 0.5 0 0 0 0\r\n"
     ]
    }
   ],
   "source": [
    "index, abundance, isotope_abundance = read_csv_isotope_abundances('examples/tardis_model_abundance_class.csv')\n",
    "\n",
    "!cat ./examples/tardis_model_abundance_class.csv\n",
    "#change .elemental to .element\n",
    "#Show 'isotope' label in df\n",
    "#how to display element/isotope"
   ]
  },
  {
   "cell_type": "markdown",
   "metadata": {},
   "source": [
    "To start an Abundance class you need and abundance and isotope abundances dataframes, along with time_0 and time, which are required for decay calculations.\n"
   ]
  },
  {
   "cell_type": "code",
   "execution_count": 12,
   "metadata": {
    "ExecuteTime": {
     "end_time": "2020-08-19T22:10:10.744620Z",
     "start_time": "2020-08-19T22:10:10.639456Z"
    }
   },
   "outputs": [],
   "source": [
    "abundances = Abundances(abundance, isotope_abundance, time = 1 * u.d)"
   ]
  },
  {
   "cell_type": "markdown",
   "metadata": {},
   "source": [
    "`element` contains element abundances decayed by `time` - `time_0` if no time is provided, `time` = `time_0` and isotopes will not decay. Also note that this adds isotopes of the same element, for example ni56 and Ni58 end up adding to 0.84. "
   ]
  },
  {
   "cell_type": "code",
   "execution_count": 13,
   "metadata": {},
   "outputs": [
    {
     "data": {
      "text/html": [
       "<div>\n",
       "<style scoped>\n",
       "    .dataframe tbody tr th:only-of-type {\n",
       "        vertical-align: middle;\n",
       "    }\n",
       "\n",
       "    .dataframe tbody tr th {\n",
       "        vertical-align: top;\n",
       "    }\n",
       "\n",
       "    .dataframe thead th {\n",
       "        text-align: right;\n",
       "    }\n",
       "</style>\n",
       "<table border=\"1\" class=\"dataframe\">\n",
       "  <thead>\n",
       "    <tr style=\"text-align: right;\">\n",
       "      <th>element</th>\n",
       "      <th>C</th>\n",
       "      <th>O</th>\n",
       "      <th>Mg</th>\n",
       "      <th>Si</th>\n",
       "      <th>Fe</th>\n",
       "      <th>Co</th>\n",
       "      <th>Ni</th>\n",
       "    </tr>\n",
       "    <tr>\n",
       "      <th>cell</th>\n",
       "      <th></th>\n",
       "      <th></th>\n",
       "      <th></th>\n",
       "      <th></th>\n",
       "      <th></th>\n",
       "      <th></th>\n",
       "      <th></th>\n",
       "    </tr>\n",
       "  </thead>\n",
       "  <tbody>\n",
       "    <tr>\n",
       "      <th>0</th>\n",
       "      <td>0.0</td>\n",
       "      <td>0.0</td>\n",
       "      <td>0.0</td>\n",
       "      <td>0.1</td>\n",
       "      <td>0.000246</td>\n",
       "      <td>0.053667</td>\n",
       "      <td>0.846087</td>\n",
       "    </tr>\n",
       "    <tr>\n",
       "      <th>1</th>\n",
       "      <td>0.0</td>\n",
       "      <td>0.0</td>\n",
       "      <td>0.0</td>\n",
       "      <td>0.3</td>\n",
       "      <td>0.000000</td>\n",
       "      <td>0.000000</td>\n",
       "      <td>0.700000</td>\n",
       "    </tr>\n",
       "    <tr>\n",
       "      <th>2</th>\n",
       "      <td>0.0</td>\n",
       "      <td>0.2</td>\n",
       "      <td>0.8</td>\n",
       "      <td>0.0</td>\n",
       "      <td>0.000000</td>\n",
       "      <td>0.000000</td>\n",
       "      <td>0.000000</td>\n",
       "    </tr>\n",
       "    <tr>\n",
       "      <th>3</th>\n",
       "      <td>0.0</td>\n",
       "      <td>0.3</td>\n",
       "      <td>0.7</td>\n",
       "      <td>0.0</td>\n",
       "      <td>0.000000</td>\n",
       "      <td>0.000000</td>\n",
       "      <td>0.000000</td>\n",
       "    </tr>\n",
       "    <tr>\n",
       "      <th>4</th>\n",
       "      <td>0.0</td>\n",
       "      <td>0.2</td>\n",
       "      <td>0.8</td>\n",
       "      <td>0.0</td>\n",
       "      <td>0.000000</td>\n",
       "      <td>0.000000</td>\n",
       "      <td>0.000000</td>\n",
       "    </tr>\n",
       "    <tr>\n",
       "      <th>5</th>\n",
       "      <td>0.0</td>\n",
       "      <td>0.2</td>\n",
       "      <td>0.8</td>\n",
       "      <td>0.0</td>\n",
       "      <td>0.000000</td>\n",
       "      <td>0.000000</td>\n",
       "      <td>0.000000</td>\n",
       "    </tr>\n",
       "    <tr>\n",
       "      <th>6</th>\n",
       "      <td>0.0</td>\n",
       "      <td>0.2</td>\n",
       "      <td>0.8</td>\n",
       "      <td>0.0</td>\n",
       "      <td>0.000000</td>\n",
       "      <td>0.000000</td>\n",
       "      <td>0.000000</td>\n",
       "    </tr>\n",
       "    <tr>\n",
       "      <th>7</th>\n",
       "      <td>0.5</td>\n",
       "      <td>0.5</td>\n",
       "      <td>0.0</td>\n",
       "      <td>0.0</td>\n",
       "      <td>0.000000</td>\n",
       "      <td>0.000000</td>\n",
       "      <td>0.000000</td>\n",
       "    </tr>\n",
       "  </tbody>\n",
       "</table>\n",
       "</div>"
      ],
      "text/plain": [
       "element    C    O   Mg   Si        Fe        Co        Ni\n",
       "cell                                                     \n",
       "0        0.0  0.0  0.0  0.1  0.000246  0.053667  0.846087\n",
       "1        0.0  0.0  0.0  0.3  0.000000  0.000000  0.700000\n",
       "2        0.0  0.2  0.8  0.0  0.000000  0.000000  0.000000\n",
       "3        0.0  0.3  0.7  0.0  0.000000  0.000000  0.000000\n",
       "4        0.0  0.2  0.8  0.0  0.000000  0.000000  0.000000\n",
       "5        0.0  0.2  0.8  0.0  0.000000  0.000000  0.000000\n",
       "6        0.0  0.2  0.8  0.0  0.000000  0.000000  0.000000\n",
       "7        0.5  0.5  0.0  0.0  0.000000  0.000000  0.000000"
      ]
     },
     "execution_count": 13,
     "metadata": {},
     "output_type": "execute_result"
    }
   ],
   "source": [
    "abundances.elemental"
   ]
  },
  {
   "cell_type": "markdown",
   "metadata": {},
   "source": [
    "For a more granular approach to isotopes, access `isotope`"
   ]
  },
  {
   "cell_type": "code",
   "execution_count": 14,
   "metadata": {
    "ExecuteTime": {
     "end_time": "2020-08-19T22:11:00.260972Z",
     "start_time": "2020-08-19T22:11:00.206300Z"
    }
   },
   "outputs": [
    {
     "data": {
      "text/html": [
       "<div>\n",
       "<style scoped>\n",
       "    .dataframe tbody tr th:only-of-type {\n",
       "        vertical-align: middle;\n",
       "    }\n",
       "\n",
       "    .dataframe tbody tr th {\n",
       "        vertical-align: top;\n",
       "    }\n",
       "\n",
       "    .dataframe thead th {\n",
       "        text-align: right;\n",
       "    }\n",
       "</style>\n",
       "<table border=\"1\" class=\"dataframe\">\n",
       "  <thead>\n",
       "    <tr style=\"text-align: right;\">\n",
       "      <th></th>\n",
       "      <th>Fe56</th>\n",
       "      <th>Co56</th>\n",
       "      <th>Ni56</th>\n",
       "      <th>Ni58</th>\n",
       "    </tr>\n",
       "    <tr>\n",
       "      <th>cell</th>\n",
       "      <th></th>\n",
       "      <th></th>\n",
       "      <th></th>\n",
       "      <th></th>\n",
       "    </tr>\n",
       "  </thead>\n",
       "  <tbody>\n",
       "    <tr>\n",
       "      <th>0</th>\n",
       "      <td>0.000246</td>\n",
       "      <td>0.053667</td>\n",
       "      <td>0.446085</td>\n",
       "      <td>0.4</td>\n",
       "    </tr>\n",
       "    <tr>\n",
       "      <th>1</th>\n",
       "      <td>0.000000</td>\n",
       "      <td>0.000000</td>\n",
       "      <td>0.000000</td>\n",
       "      <td>0.7</td>\n",
       "    </tr>\n",
       "    <tr>\n",
       "      <th>2</th>\n",
       "      <td>0.000000</td>\n",
       "      <td>0.000000</td>\n",
       "      <td>0.000000</td>\n",
       "      <td>0.0</td>\n",
       "    </tr>\n",
       "    <tr>\n",
       "      <th>3</th>\n",
       "      <td>0.000000</td>\n",
       "      <td>0.000000</td>\n",
       "      <td>0.000000</td>\n",
       "      <td>0.0</td>\n",
       "    </tr>\n",
       "    <tr>\n",
       "      <th>4</th>\n",
       "      <td>0.000000</td>\n",
       "      <td>0.000000</td>\n",
       "      <td>0.000000</td>\n",
       "      <td>0.0</td>\n",
       "    </tr>\n",
       "    <tr>\n",
       "      <th>5</th>\n",
       "      <td>0.000000</td>\n",
       "      <td>0.000000</td>\n",
       "      <td>0.000000</td>\n",
       "      <td>0.0</td>\n",
       "    </tr>\n",
       "    <tr>\n",
       "      <th>6</th>\n",
       "      <td>0.000000</td>\n",
       "      <td>0.000000</td>\n",
       "      <td>0.000000</td>\n",
       "      <td>0.0</td>\n",
       "    </tr>\n",
       "    <tr>\n",
       "      <th>7</th>\n",
       "      <td>0.000000</td>\n",
       "      <td>0.000000</td>\n",
       "      <td>0.000000</td>\n",
       "      <td>0.0</td>\n",
       "    </tr>\n",
       "  </tbody>\n",
       "</table>\n",
       "</div>"
      ],
      "text/plain": [
       "          Fe56      Co56      Ni56  Ni58\n",
       "cell                                    \n",
       "0     0.000246  0.053667  0.446085   0.4\n",
       "1     0.000000  0.000000  0.000000   0.7\n",
       "2     0.000000  0.000000  0.000000   0.0\n",
       "3     0.000000  0.000000  0.000000   0.0\n",
       "4     0.000000  0.000000  0.000000   0.0\n",
       "5     0.000000  0.000000  0.000000   0.0\n",
       "6     0.000000  0.000000  0.000000   0.0\n",
       "7     0.000000  0.000000  0.000000   0.0"
      ]
     },
     "execution_count": 14,
     "metadata": {},
     "output_type": "execute_result"
    }
   ],
   "source": [
    "abundances.isotope"
   ]
  },
  {
   "cell_type": "markdown",
   "metadata": {},
   "source": [
    "To check initial abundances, acces `isotope_0` and `element_0`."
   ]
  },
  {
   "cell_type": "markdown",
   "metadata": {},
   "source": [
    "### Radiation Field\n",
    "RadiationField class stores `radiative_temperature` and `dilution_factor` for every cell. The class can be instantiated with either quantity, also takes `time_0` and `time` like the others, but has no use for it."
   ]
  },
  {
   "cell_type": "code",
   "execution_count": 15,
   "metadata": {},
   "outputs": [
    {
     "name": "stdout",
     "output_type": "stream",
     "text": [
      "no `time` provided, `time_0` will be used\n"
     ]
    }
   ],
   "source": [
    "radiative_temperature = [\n",
    "        7000,\n",
    "        7000,\n",
    "        7000,\n",
    "        7000,\n",
    "        7000,\n",
    "        7000,\n",
    "        7000,\n",
    "        7000,\n",
    "    ] * u.K\n",
    "dilution_factor = [0.3, 0.3, 0.3, 0.3, 0.3, 0.3, 0.3, 0.3]\n",
    "radiation_field = RadiationField(radiative_temperature, dilution_factor)"
   ]
  },
  {
   "cell_type": "markdown",
   "metadata": {},
   "source": [
    "`radiative_temperature` and `dilution_factor` are accessed as attributes."
   ]
  },
  {
   "cell_type": "code",
   "execution_count": 16,
   "metadata": {},
   "outputs": [
    {
     "data": {
      "text/latex": [
       "$[7000,~7000,~7000,~7000,~7000,~7000,~7000,~7000] \\; \\mathrm{K}$"
      ],
      "text/plain": [
       "<Quantity [7000., 7000., 7000., 7000., 7000., 7000., 7000., 7000.] K>"
      ]
     },
     "execution_count": 16,
     "metadata": {},
     "output_type": "execute_result"
    }
   ],
   "source": [
    "radiation_field.radiative_temperature"
   ]
  },
  {
   "cell_type": "code",
   "execution_count": 17,
   "metadata": {},
   "outputs": [
    {
     "data": {
      "text/plain": [
       "[0.3, 0.3, 0.3, 0.3, 0.3, 0.3, 0.3, 0.3]"
      ]
     },
     "execution_count": 17,
     "metadata": {},
     "output_type": "execute_result"
    }
   ],
   "source": [
    "radiation_field.dilution_factor"
   ]
  },
  {
   "cell_type": "markdown",
   "metadata": {},
   "source": [
    "## Generic[Ejecta]Model\n",
    "A more flexible implementation of the TARDIS ejecta model is the Generic[Ejecta]Model. \n",
    "GenericModel is the easiest way to bind and syncronyze properties. A GenericModel is started with Property arguments and a time argument.\n",
    "We can use the properties defined above to start a GenericModel.\n"
   ]
  },
  {
   "cell_type": "code",
   "execution_count": 18,
   "metadata": {},
   "outputs": [
    {
     "name": "stdout",
     "output_type": "stream",
     "text": [
      "Model time set to 86400.0 s or 1.0 d\n"
     ]
    }
   ],
   "source": [
    "ejecta = GenericModel(velocity,density,abundances,radiation_field,time = 1 * u.d)"
   ]
  },
  {
   "cell_type": "markdown",
   "metadata": {},
   "source": [
    "Note that the time used in the model will transfer to all properties, and a particular property's `time` is grater that the one specified in the `GenericModel`, the greater time will be used. If a property has a different `number of cells`, the GenericModel will not start.\n",
    "\n",
    "All properties can be accessed as normal attributes, and will always be stored under the same name, regardless of what the initial property class was called. For example, if out Velocity instance was called just 'vel', in the `GenericModel` it is still `GenericModel.velocity.inner`"
   ]
  },
  {
   "cell_type": "code",
   "execution_count": 19,
   "metadata": {},
   "outputs": [
    {
     "data": {
      "text/latex": [
       "$[9 \\times 10^{8},~9.5 \\times 10^{8},~1 \\times 10^{9},~1.05 \\times 10^{9},~1.1 \\times 10^{9},~1.15 \\times 10^{9},~1.2 \\times 10^{9},~1.25 \\times 10^{9}] \\; \\mathrm{\\frac{cm}{s}}$"
      ],
      "text/plain": [
       "<Quantity [9.00e+08, 9.50e+08, 1.00e+09, 1.05e+09, 1.10e+09, 1.15e+09,\n",
       "           1.20e+09, 1.25e+09] cm / s>"
      ]
     },
     "execution_count": 19,
     "metadata": {},
     "output_type": "execute_result"
    }
   ],
   "source": [
    "ejecta.velocity.inner"
   ]
  },
  {
   "cell_type": "code",
   "execution_count": 20,
   "metadata": {},
   "outputs": [
    {
     "data": {
      "text/html": [
       "<div>\n",
       "<style scoped>\n",
       "    .dataframe tbody tr th:only-of-type {\n",
       "        vertical-align: middle;\n",
       "    }\n",
       "\n",
       "    .dataframe tbody tr th {\n",
       "        vertical-align: top;\n",
       "    }\n",
       "\n",
       "    .dataframe thead th {\n",
       "        text-align: right;\n",
       "    }\n",
       "</style>\n",
       "<table border=\"1\" class=\"dataframe\">\n",
       "  <thead>\n",
       "    <tr style=\"text-align: right;\">\n",
       "      <th>element</th>\n",
       "      <th>C</th>\n",
       "      <th>O</th>\n",
       "      <th>Mg</th>\n",
       "      <th>Si</th>\n",
       "      <th>Fe</th>\n",
       "      <th>Co</th>\n",
       "      <th>Ni</th>\n",
       "    </tr>\n",
       "    <tr>\n",
       "      <th>cell</th>\n",
       "      <th></th>\n",
       "      <th></th>\n",
       "      <th></th>\n",
       "      <th></th>\n",
       "      <th></th>\n",
       "      <th></th>\n",
       "      <th></th>\n",
       "    </tr>\n",
       "  </thead>\n",
       "  <tbody>\n",
       "    <tr>\n",
       "      <th>0</th>\n",
       "      <td>0.0</td>\n",
       "      <td>0.0</td>\n",
       "      <td>0.0</td>\n",
       "      <td>0.1</td>\n",
       "      <td>0.000246</td>\n",
       "      <td>0.053667</td>\n",
       "      <td>0.846087</td>\n",
       "    </tr>\n",
       "    <tr>\n",
       "      <th>1</th>\n",
       "      <td>0.0</td>\n",
       "      <td>0.0</td>\n",
       "      <td>0.0</td>\n",
       "      <td>0.3</td>\n",
       "      <td>0.000000</td>\n",
       "      <td>0.000000</td>\n",
       "      <td>0.700000</td>\n",
       "    </tr>\n",
       "    <tr>\n",
       "      <th>2</th>\n",
       "      <td>0.0</td>\n",
       "      <td>0.2</td>\n",
       "      <td>0.8</td>\n",
       "      <td>0.0</td>\n",
       "      <td>0.000000</td>\n",
       "      <td>0.000000</td>\n",
       "      <td>0.000000</td>\n",
       "    </tr>\n",
       "    <tr>\n",
       "      <th>3</th>\n",
       "      <td>0.0</td>\n",
       "      <td>0.3</td>\n",
       "      <td>0.7</td>\n",
       "      <td>0.0</td>\n",
       "      <td>0.000000</td>\n",
       "      <td>0.000000</td>\n",
       "      <td>0.000000</td>\n",
       "    </tr>\n",
       "    <tr>\n",
       "      <th>4</th>\n",
       "      <td>0.0</td>\n",
       "      <td>0.2</td>\n",
       "      <td>0.8</td>\n",
       "      <td>0.0</td>\n",
       "      <td>0.000000</td>\n",
       "      <td>0.000000</td>\n",
       "      <td>0.000000</td>\n",
       "    </tr>\n",
       "    <tr>\n",
       "      <th>5</th>\n",
       "      <td>0.0</td>\n",
       "      <td>0.2</td>\n",
       "      <td>0.8</td>\n",
       "      <td>0.0</td>\n",
       "      <td>0.000000</td>\n",
       "      <td>0.000000</td>\n",
       "      <td>0.000000</td>\n",
       "    </tr>\n",
       "    <tr>\n",
       "      <th>6</th>\n",
       "      <td>0.0</td>\n",
       "      <td>0.2</td>\n",
       "      <td>0.8</td>\n",
       "      <td>0.0</td>\n",
       "      <td>0.000000</td>\n",
       "      <td>0.000000</td>\n",
       "      <td>0.000000</td>\n",
       "    </tr>\n",
       "    <tr>\n",
       "      <th>7</th>\n",
       "      <td>0.5</td>\n",
       "      <td>0.5</td>\n",
       "      <td>0.0</td>\n",
       "      <td>0.0</td>\n",
       "      <td>0.000000</td>\n",
       "      <td>0.000000</td>\n",
       "      <td>0.000000</td>\n",
       "    </tr>\n",
       "  </tbody>\n",
       "</table>\n",
       "</div>"
      ],
      "text/plain": [
       "element    C    O   Mg   Si        Fe        Co        Ni\n",
       "cell                                                     \n",
       "0        0.0  0.0  0.0  0.1  0.000246  0.053667  0.846087\n",
       "1        0.0  0.0  0.0  0.3  0.000000  0.000000  0.700000\n",
       "2        0.0  0.2  0.8  0.0  0.000000  0.000000  0.000000\n",
       "3        0.0  0.3  0.7  0.0  0.000000  0.000000  0.000000\n",
       "4        0.0  0.2  0.8  0.0  0.000000  0.000000  0.000000\n",
       "5        0.0  0.2  0.8  0.0  0.000000  0.000000  0.000000\n",
       "6        0.0  0.2  0.8  0.0  0.000000  0.000000  0.000000\n",
       "7        0.5  0.5  0.0  0.0  0.000000  0.000000  0.000000"
      ]
     },
     "execution_count": 20,
     "metadata": {},
     "output_type": "execute_result"
    }
   ],
   "source": [
    "ejecta.abundance.elemental"
   ]
  },
  {
   "cell_type": "markdown",
   "metadata": {},
   "source": [
    "## Ejecta Dataframe"
   ]
  },
  {
   "cell_type": "markdown",
   "metadata": {},
   "source": [
    "Customs calculations can be difficult, for a more classic aproach to the data stored by the model, the method `to_dataframe()` generates a dataframe."
   ]
  },
  {
   "cell_type": "code",
   "execution_count": null,
   "metadata": {},
   "outputs": [],
   "source": []
  },
  {
   "cell_type": "markdown",
   "metadata": {},
   "source": []
  }
 ],
 "metadata": {
  "kernelspec": {
   "display_name": "tardis",
   "language": "python",
   "name": "tardis"
  },
  "language_info": {
   "codemirror_mode": {
    "name": "ipython",
    "version": 3
   },
   "file_extension": ".py",
   "mimetype": "text/x-python",
   "name": "python",
   "nbconvert_exporter": "python",
   "pygments_lexer": "ipython3",
   "version": "3.6.10"
  },
  "toc": {
   "base_numbering": 1,
   "nav_menu": {},
   "number_sections": true,
   "sideBar": true,
   "skip_h1_title": false,
   "title_cell": "Table of Contents",
   "title_sidebar": "Contents",
   "toc_cell": false,
   "toc_position": {},
   "toc_section_display": true,
   "toc_window_display": false
  }
 },
 "nbformat": 4,
 "nbformat_minor": 4
}
