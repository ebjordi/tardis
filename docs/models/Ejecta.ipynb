{
 "cells": [
  {
   "cell_type": "markdown",
   "metadata": {},
   "source": [
    "# Ejecta model"
   ]
  },
  {
   "cell_type": "markdown",
   "metadata": {},
   "source": [
    "TARDIS requires a model of the homologously expanding ejecta in order to run a simulation. The ejecta is modeled as concentric 1 dimensional radial cells. Each cell contins information the velocity structure, abundances, density, and a radiation field.\n",
    "#This information is stored in TARDIS [config](link). \n",
    "The information of these properties can be stored as classes and all of them inherit from a BaseProperty to facilitate the interaction. BaseProperty handles the initailization of the property's time and initial time (time_0) with which most properties build on.             \n",
    "##  Model grid\n",
    "The first thing needed in order to have a useful ejecta model is a discreet space grid. \n",
    "What defines the spatial grid in TARDIS is the velocity grid. This dependance on velocity also entails a dependance with time.\n",
    "### Velocity Class\n",
    "For a basic grid inner and outer velocities are needed. Each concentric cell has an inner and outer velocity, and inner_velocity and outer_velocity are arrays composed of these velocities.\n",
    "The velocity class stores velocities and velocities-related quantities (such as cell radius and volume). To start a Velocity class we need `inner_velocity` and an `outer_velocity` arrays, optional arguments are `time_0` which fallback to 0 seconds and `time` which is recomended to have singificant values for radii and volume.\n"
   ]
  },
  {
   "cell_type": "code",
   "execution_count": 1,
   "metadata": {
    "ExecuteTime": {
     "end_time": "2020-08-18T21:56:28.021697Z",
     "start_time": "2020-08-18T21:56:26.217931Z"
    }
   },
   "outputs": [
    {
     "name": "stderr",
     "output_type": "stream",
     "text": [
      "/home/jordi/conda/envs/tardis/lib/python3.6/importlib/_bootstrap.py:219: QAWarning: pyne.data is not yet QA compliant.\n",
      "  return f(*args, **kwds)\n"
     ]
    }
   ],
   "source": [
    "from tardis.model._generic_model import *"
   ]
  },
  {
   "cell_type": "code",
   "execution_count": null,
   "metadata": {
    "ExecuteTime": {
     "end_time": "2020-08-18T19:50:45.066705Z",
     "start_time": "2020-08-18T19:50:45.059363Z"
    }
   },
   "outputs": [],
   "source": [
    "velocity_inner = [i for i in range(9000, 13000, 500)] * u.km / u.s\n",
    "velocity_outer = [i for i in range(9500, 13500, 500)] * u.km / u.s\n",
    "print(velocity_inner,'\\n',velocity_outer)"
   ]
  },
  {
   "cell_type": "code",
   "execution_count": null,
   "metadata": {
    "ExecuteTime": {
     "end_time": "2020-08-18T19:50:45.084253Z",
     "start_time": "2020-08-18T19:50:45.069638Z"
    }
   },
   "outputs": [],
   "source": [
    "velocity = Velocity(velocity_inner,velocity_outer)\n"
   ]
  },
  {
   "cell_type": "markdown",
   "metadata": {},
   "source": [
    "Quantities are converted to CGS and can be easily accessed:"
   ]
  },
  {
   "cell_type": "code",
   "execution_count": null,
   "metadata": {
    "ExecuteTime": {
     "end_time": "2020-08-18T19:50:45.110827Z",
     "start_time": "2020-08-18T19:50:45.087313Z"
    }
   },
   "outputs": [],
   "source": [
    "velocity.middle"
   ]
  },
  {
   "cell_type": "markdown",
   "metadata": {
    "ExecuteTime": {
     "end_time": "2020-08-18T19:25:25.670354Z",
     "start_time": "2020-08-18T19:25:25.662022Z"
    }
   },
   "source": [
    "By not providing a time for the class some quantities don't make sense:"
   ]
  },
  {
   "cell_type": "code",
   "execution_count": null,
   "metadata": {
    "ExecuteTime": {
     "end_time": "2020-08-18T19:50:57.391878Z",
     "start_time": "2020-08-18T19:50:57.374379Z"
    }
   },
   "outputs": [],
   "source": [
    "velocity.inner_radius"
   ]
  },
  {
   "cell_type": "markdown",
   "metadata": {
    "ExecuteTime": {
     "end_time": "2020-08-18T19:06:05.350094Z",
     "start_time": "2020-08-18T19:06:05.341062Z"
    }
   },
   "source": [
    "`time` can be modified:"
   ]
  },
  {
   "cell_type": "code",
   "execution_count": null,
   "metadata": {
    "ExecuteTime": {
     "end_time": "2020-08-18T19:50:45.140353Z",
     "start_time": "2020-08-18T19:50:45.132998Z"
    }
   },
   "outputs": [],
   "source": [
    "velocity.time = 1 * u.d\n",
    "velocity.time"
   ]
  },
  {
   "cell_type": "markdown",
   "metadata": {},
   "source": [
    "Quantities stored in Velocity are:\n",
    " - Velocity.inner \n",
    " - Velocity.outer\n",
    " - Velocity.middle\n",
    " - Velocity.inner_radius\n",
    " - Velocity.middle_radius\n",
    " - Velocity.outer_radius\n",
    " - Velocity.volume\n",
    " - Velocity.time_0\n",
    " - Velocity.time\n",
    " - Velocity.number_of_cells"
   ]
  },
  {
   "cell_type": "markdown",
   "metadata": {},
   "source": [
    "The number of cells is defined by the length of the input velocity arrays"
   ]
  },
  {
   "cell_type": "code",
   "execution_count": null,
   "metadata": {
    "ExecuteTime": {
     "end_time": "2020-08-18T20:42:36.156893Z",
     "start_time": "2020-08-18T20:42:36.146570Z"
    }
   },
   "outputs": [],
   "source": [
    "velocity.number_of_cells"
   ]
  },
  {
   "cell_type": "markdown",
   "metadata": {},
   "source": [
    "### Density\n",
    "Once the grid is defined, more properties can be added to the structure. \n",
    "The Density class can store mass density and electron density(optional).\n",
    "Initial mass density is stored as `mass_0`."
   ]
  },
  {
   "cell_type": "code",
   "execution_count": 6,
   "metadata": {
    "ExecuteTime": {
     "end_time": "2020-08-18T22:00:27.892526Z",
     "start_time": "2020-08-18T22:00:27.857258Z"
    }
   },
   "outputs": [],
   "source": [
    "mass_density_array = [\n",
    "            6.2419e-10,\n",
    "            6.1502e-10,\n",
    "            6.0492e-10,\n",
    "            5.9475e-10,\n",
    "            5.8468e-10,\n",
    "            5.7473e-10,\n",
    "            5.6493e-10,\n",
    "            5.5529e-10,\n",
    "        ] * u.g / u.cm**3\n",
    "density = Density(mass_density_array, time = 1 * u.d)"
   ]
  },
  {
   "cell_type": "markdown",
   "metadata": {},
   "source": [
    "Initial mass density is stored as `mass_0`."
   ]
  },
  {
   "cell_type": "code",
   "execution_count": 5,
   "metadata": {
    "ExecuteTime": {
     "end_time": "2020-08-18T21:59:35.348235Z",
     "start_time": "2020-08-18T21:59:35.301241Z"
    }
   },
   "outputs": [
    {
     "data": {
      "text/latex": [
       "$[6.2419 \\times 10^{-10},~6.1502 \\times 10^{-10},~6.0492 \\times 10^{-10},~5.9475 \\times 10^{-10},~5.8468 \\times 10^{-10},~5.7473 \\times 10^{-10},~5.6493 \\times 10^{-10},~5.5529 \\times 10^{-10}] \\; \\mathrm{\\frac{g}{cm^{3}}}$"
      ],
      "text/plain": [
       "<Quantity [6.2419e-10, 6.1502e-10, 6.0492e-10, 5.9475e-10, 5.8468e-10,\n",
       "           5.7473e-10, 5.6493e-10, 5.5529e-10] g / cm3>"
      ]
     },
     "execution_count": 5,
     "metadata": {},
     "output_type": "execute_result"
    }
   ],
   "source": [
    "density.mass_0"
   ]
  },
  {
   "cell_type": "markdown",
   "metadata": {},
   "source": [
    "The ejecta is homologouly expanding, and therefore the value of the density will decrease proportionally to (time/time_0)**-3. This again highlights the importance of providing a `time` for the class."
   ]
  },
  {
   "cell_type": "code",
   "execution_count": 9,
   "metadata": {
    "ExecuteTime": {
     "end_time": "2020-08-18T22:22:21.831017Z",
     "start_time": "2020-08-18T22:22:21.821294Z"
    }
   },
   "outputs": [
    {
     "data": {
      "text/latex": [
       "$[9.6777763 \\times 10^{-25},~9.5355997 \\times 10^{-25},~9.3790039 \\times 10^{-25},~9.2213228 \\times 10^{-25},~9.0651921 \\times 10^{-25},~8.910922 \\times 10^{-25},~8.7589775 \\times 10^{-25},~8.6095138 \\times 10^{-25}] \\; \\mathrm{\\frac{g}{cm^{3}}}$"
      ],
      "text/plain": [
       "<Quantity [9.67777630e-25, 9.53559970e-25, 9.37900389e-25, 9.22132276e-25,\n",
       "           9.06519208e-25, 8.91092195e-25, 8.75897750e-25, 8.60951377e-25] g / cm3>"
      ]
     },
     "execution_count": 9,
     "metadata": {},
     "output_type": "execute_result"
    }
   ],
   "source": [
    "density.mass"
   ]
  },
  {
   "cell_type": "markdown",
   "metadata": {
    "ExecuteTime": {
     "end_time": "2020-08-18T22:21:39.446949Z",
     "start_time": "2020-08-18T22:21:39.438946Z"
    }
   },
   "source": [
    "Quantities stored in Density are:\n",
    " - Density.mass_0\n",
    " - Density.mass\n",
    " - Density.electron\n",
    " - Density.time_0\n",
    " - Density.time\n",
    " - Density.number_of_cells"
   ]
  },
  {
   "cell_type": "markdown",
   "metadata": {},
   "source": [
    "### Abundance\n",
    "Explain\n",
    "Example\n",
    "### Radiation Field\n",
    "Explain\n",
    "Example\n",
    "## Generic[Ejecta]Model\n",
    "A more flexible implementation of the TARDIS ejecta model is the Generic[Ejecta]Model. \n",
    "What does Generic model is and what it does with data.\n",
    "\n",
    "Explain what you can do here but not in TARDIS\n",
    "Start model and different times using above properties \n",
    "Explain that more properties can be added as long as they use the basxi structure of BaseProperty\n",
    "## TARDIS Ejecta Model\n",
    "Explain what happens with v_boundary and that it can't change."
   ]
  },
  {
   "cell_type": "code",
   "execution_count": null,
   "metadata": {},
   "outputs": [],
   "source": []
  }
 ],
 "metadata": {
  "kernelspec": {
   "display_name": "tardis",
   "language": "python",
   "name": "tardis"
  },
  "language_info": {
   "codemirror_mode": {
    "name": "ipython",
    "version": 3
   },
   "file_extension": ".py",
   "mimetype": "text/x-python",
   "name": "python",
   "nbconvert_exporter": "python",
   "pygments_lexer": "ipython3",
   "version": "3.6.10"
  },
  "toc": {
   "base_numbering": 1,
   "nav_menu": {},
   "number_sections": true,
   "sideBar": true,
   "skip_h1_title": false,
   "title_cell": "Table of Contents",
   "title_sidebar": "Contents",
   "toc_cell": false,
   "toc_position": {},
   "toc_section_display": true,
   "toc_window_display": true
  }
 },
 "nbformat": 4,
 "nbformat_minor": 4
}
