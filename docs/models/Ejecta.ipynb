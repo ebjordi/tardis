{
 "cells": [
  {
   "cell_type": "markdown",
   "metadata": {},
   "source": [
    "# Ejecta model"
   ]
  },
  {
   "cell_type": "markdown",
   "metadata": {},
   "source": [
    "TARDIS requires a model of the homologously expanding ejecta in order to run a simulation. A model will include information like the velocity cell structure, abundances, density, and radiation field.\n",
    "This information is stored in TARDIS [config](link)\n",
    "A short description of Properties and Base Property\n",
    "##  Model grid\n",
    "Explanation of grid and why we need velocity\n",
    "### Velocity\n",
    "Explain\n",
    "Example\n",
    "### Density\n",
    "Explain\n",
    "Example\n",
    "### Abundance\n",
    "Explain\n",
    "Example\n",
    "### Radiation Field\n",
    "Explain\n",
    "Example\n",
    "## Generic[Ejecta]Model\n",
    "A more flexible implementation of the TARDIS ejecta model is the Generic[Ejecta]Model. \n",
    "What does Generic model is and what it does with data.\n",
    "\n",
    "Explain what you can do here but not in TARDIS\n",
    "Start model and different times using above properties \n",
    "Explain that more properties can be added as long as they use the basxi structure of BaseProperty\n",
    "## TARDIS Ejecta Model\n",
    "Explain what happens with v_boundary and that it can't change.\n"
   ]
  }
 ],
 "metadata": {
  "kernelspec": {
   "display_name": "tardis",
   "language": "python",
   "name": "tardis"
  },
  "language_info": {
   "codemirror_mode": {
    "name": "ipython",
    "version": 3
   },
   "file_extension": ".py",
   "mimetype": "text/x-python",
   "name": "python",
   "nbconvert_exporter": "python",
   "pygments_lexer": "ipython3",
   "version": "3.6.10"
  },
  "toc": {
   "base_numbering": 1,
   "nav_menu": {},
   "number_sections": true,
   "sideBar": true,
   "skip_h1_title": false,
   "title_cell": "Table of Contents",
   "title_sidebar": "Contents",
   "toc_cell": false,
   "toc_position": {},
   "toc_section_display": true,
   "toc_window_display": true
  }
 },
 "nbformat": 4,
 "nbformat_minor": 4
}
